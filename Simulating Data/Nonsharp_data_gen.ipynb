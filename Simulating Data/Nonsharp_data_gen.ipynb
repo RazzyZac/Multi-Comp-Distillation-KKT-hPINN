{
 "cells": [
  {
   "cell_type": "code",
   "execution_count": 1,
   "id": "291658ba-4098-499e-aea2-10fede425c1c",
   "metadata": {
    "scrolled": true
   },
   "outputs": [],
   "source": [
    "import json\n",
    "from system.aspenplusconnector import ASPENConnector\n",
    "from data.data_dist import StreamDataGeneratorAspenDIST\n",
    "from data.simulator_dist import StreamDataSimulatorAspenDIST"
   ]
  },
  {
   "cell_type": "code",
   "execution_count": 2,
   "id": "3df79c54-cb85-4465-8c2a-4f403d11a739",
   "metadata": {},
   "outputs": [
    {
     "data": {
      "text/plain": [
       "'except Exception as e:\\n    system.close()\\n    print(\"Aspen Closed due to error:\", e)'"
      ]
     },
     "execution_count": 2,
     "metadata": {},
     "output_type": "execute_result"
    }
   ],
   "source": [
    "def run_aspen_plus_dist():\n",
    "    path = \"C:\\\\Users\\\\path to aspen .bkp file\"\n",
    "    system = ASPENConnector(path)\n",
    "    system.connect()\n",
    "    stream_list = [\n",
    "        \"FEED\",\n",
    "        \"DIST\",\n",
    "        \"BOTT\",\n",
    "    ]\n",
    "    all_in_streams = [\n",
    "        \"FEED\",\n",
    "    ]\n",
    "    all_out_streams = [\n",
    "        \"DIST\",\n",
    "        \"BOTT\",\n",
    "    ]\n",
    "    all_components = [\n",
    "        \"N-BUTANE\",\n",
    "        \"N-PENTAN\",\n",
    "        \"N-HEXANE\",\n",
    "    ]\n",
    "    all_blocks = [\n",
    "        \"B1\",\n",
    "    ]\n",
    "    json_file_path = 'C:\\\\Users\\\\zrasmussen\\\\attributes_DIST.json'  # Replace with the path to your JSON file\n",
    "    # Load the JSON dictionary from the file\n",
    "    with open(json_file_path, 'r') as json_file:\n",
    "        attributes_dict = json.load(json_file)\n",
    "\n",
    "    data_generator = StreamDataGeneratorAspenDIST(system=system.aspen)\n",
    "\n",
    "    #data_generator.get(path=val_path)\n",
    "    try:\n",
    "        data_dict = data_generator.generate(all_streams_list=stream_list,\n",
    "                                            all_in_streams_list=all_in_streams,\n",
    "                                            all_out_streams_list=all_out_streams,\n",
    "                                            all_components=all_components,\n",
    "                                            all_blocks = all_blocks)\n",
    "    except Exception as e:\n",
    "        system.close()\n",
    "        print(\"Aspen Closed due to error:\", e)\n",
    "    \n",
    "    #try:\n",
    "    simulator = StreamDataSimulatorAspenDIST(engine=system.aspen,\n",
    "                                                  generator=data_generator,\n",
    "                                                  attributes_dict=attributes_dict,\n",
    "                                                  num_points=10,\n",
    "                                                  start_point=10000)\n",
    "\n",
    "    #except Exception as e:\n",
    "        #system.close()\n",
    "        #print(\"Aspen Closed due to error:\", e)\n",
    "\n",
    "    #try:    \n",
    "    simulator.simulate(all_streams_list=stream_list,\n",
    "                           all_in_streams_list=all_in_streams,\n",
    "                           all_out_streams_list=all_out_streams,\n",
    "                           all_components=all_components,\n",
    "                           all_blocks = all_blocks,\n",
    "                           save_path=\"dataset/simulation_DIST_{}.json\".format(\"10000-10010\"))\n",
    "    #simulator.save_results(save_path=\"dataset/simulation_DIST_{}.json\".format(\"4\"))\n",
    "\n",
    "\"\"\"except Exception as e:\n",
    "    system.close()\n",
    "    print(\"Aspen Closed due to error:\", e)\"\"\"\n"
   ]
  },
  {
   "cell_type": "code",
   "execution_count": 3,
   "id": "92831514-e048-4aee-a3bb-142fdcec5857",
   "metadata": {
    "scrolled": true
   },
   "outputs": [
    {
     "name": "stdout",
     "output_type": "stream",
     "text": [
      "Connected to ASPEN...\n",
      "ASPEN File Loaded...\n",
      "retrieving Stream: FEED, Component: N-BUTANE\n",
      "retrieving Stream: FEED, Component: N-PENTAN\n",
      "retrieving Stream: FEED, Component: N-HEXANE\n",
      "retrieving Stream: DIST, Component: N-BUTANE\n",
      "retrieving Stream: DIST, Component: N-PENTAN\n",
      "retrieving Stream: DIST, Component: N-HEXANE\n",
      "retrieving Stream: BOTT, Component: N-BUTANE\n",
      "retrieving Stream: BOTT, Component: N-PENTAN\n",
      "retrieving Stream: BOTT, Component: N-HEXANE\n",
      "Aspen Closed\n",
      "Aspen Closed due to error: name 'aspen' is not defined\n",
      "dict_keys(['FEED'])\n",
      "variable_ranges: [(0, 1), (0, 1), (3, 22), (0, 1000), (0.25, 0.75), (0.75, 2)]\n",
      "n_features: 6\n",
      "a\n",
      "(32768, 7)\n",
      "b\n",
      "(10, 7)\n",
      "(10, 8)\n",
      "c\n",
      "samples: [[4.78079038e-01 2.49468140e-01 2.72452822e-01 1.90000000e+01\n",
      "  1.50000000e+01 7.69204881e+02 6.36694154e-01 8.67268985e-01]\n",
      " [2.01014472e-02 1.94824882e-02 9.60416065e-01 8.00000000e+00\n",
      "  3.00000000e+00 2.39467749e+02 3.04021582e-01 1.43071115e+00]\n",
      " [2.98064239e-02 6.25855409e-01 3.44338168e-01 1.50000000e+01\n",
      "  1.00000000e+01 5.85591542e+02 4.01841062e-01 1.98115549e+00]\n",
      " [1.85649867e-01 6.29203011e-02 7.51429832e-01 8.00000000e+00\n",
      "  5.00000000e+00 4.23065994e+02 5.38897921e-01 1.29337700e+00]\n",
      " [7.75392950e-01 5.71663193e-02 1.67440731e-01 1.10000000e+01\n",
      "  5.00000000e+00 3.36225497e+02 5.90090043e-01 1.05098326e+00]\n",
      " [4.12719321e-01 5.04345133e-01 8.29355459e-02 2.10000000e+01\n",
      "  1.50000000e+01 6.86363313e+02 4.69636710e-01 1.60343683e+00]\n",
      " [8.31926322e-01 4.41899332e-02 1.23883745e-01 5.00000000e+00\n",
      "  2.00000000e+00 2.76041292e+01 3.24970784e-01 1.81209666e+00]\n",
      " [3.56562559e-01 1.73248179e-01 4.70189261e-01 1.30000000e+01\n",
      "  1.30000000e+01 9.94969258e+02 7.34793757e-01 1.11577104e+00]\n",
      " [7.06483988e-01 2.72950531e-02 2.66220959e-01 3.00000000e+00\n",
      "  3.00000000e+00 7.42286936e+02 2.56421510e-01 1.34787594e+00]\n",
      " [1.13143912e-02 7.95314671e-01 1.93370938e-01 1.50000000e+01\n",
      "  6.00000000e+00 2.79813415e+02 6.81868525e-01 1.88825685e+00]]\n"
     ]
    },
    {
     "name": "stderr",
     "output_type": "stream",
     "text": [
      "  0%|                                                                                           | 0/10 [00:00<?, ?it/s]"
     ]
    },
    {
     "name": "stdout",
     "output_type": "stream",
     "text": [
      "367.7407293542221\n"
     ]
    },
    {
     "name": "stderr",
     "output_type": "stream",
     "text": [
      "  0%|                                                                                           | 0/10 [00:00<?, ?it/s]\n"
     ]
    },
    {
     "ename": "com_error",
     "evalue": "(-2147417848, 'The object invoked has disconnected from its clients.', None, None)",
     "output_type": "error",
     "traceback": [
      "\u001b[1;31m---------------------------------------------------------------------------\u001b[0m",
      "\u001b[1;31mcom_error\u001b[0m                                 Traceback (most recent call last)",
      "Cell \u001b[1;32mIn[3], line 1\u001b[0m\n\u001b[1;32m----> 1\u001b[0m \u001b[43mrun_aspen_plus_dist\u001b[49m\u001b[43m(\u001b[49m\u001b[43m)\u001b[49m\n",
      "Cell \u001b[1;32mIn[2], line 55\u001b[0m, in \u001b[0;36mrun_aspen_plus_dist\u001b[1;34m()\u001b[0m\n\u001b[0;32m     44\u001b[0m simulator \u001b[38;5;241m=\u001b[39m StreamDataSimulatorAspenDIST(engine\u001b[38;5;241m=\u001b[39msystem\u001b[38;5;241m.\u001b[39maspen,\n\u001b[0;32m     45\u001b[0m                                               generator\u001b[38;5;241m=\u001b[39mdata_generator,\n\u001b[0;32m     46\u001b[0m                                               attributes_dict\u001b[38;5;241m=\u001b[39mattributes_dict,\n\u001b[0;32m     47\u001b[0m                                               num_points\u001b[38;5;241m=\u001b[39m\u001b[38;5;241m10\u001b[39m,\n\u001b[0;32m     48\u001b[0m                                               start_point\u001b[38;5;241m=\u001b[39m\u001b[38;5;241m10000\u001b[39m)\n\u001b[0;32m     50\u001b[0m \u001b[38;5;66;03m#except Exception as e:\u001b[39;00m\n\u001b[0;32m     51\u001b[0m     \u001b[38;5;66;03m#system.close()\u001b[39;00m\n\u001b[0;32m     52\u001b[0m     \u001b[38;5;66;03m#print(\"Aspen Closed due to error:\", e)\u001b[39;00m\n\u001b[0;32m     53\u001b[0m \n\u001b[0;32m     54\u001b[0m \u001b[38;5;66;03m#try:    \u001b[39;00m\n\u001b[1;32m---> 55\u001b[0m \u001b[43msimulator\u001b[49m\u001b[38;5;241;43m.\u001b[39;49m\u001b[43msimulate\u001b[49m\u001b[43m(\u001b[49m\u001b[43mall_streams_list\u001b[49m\u001b[38;5;241;43m=\u001b[39;49m\u001b[43mstream_list\u001b[49m\u001b[43m,\u001b[49m\n\u001b[0;32m     56\u001b[0m \u001b[43m                       \u001b[49m\u001b[43mall_in_streams_list\u001b[49m\u001b[38;5;241;43m=\u001b[39;49m\u001b[43mall_in_streams\u001b[49m\u001b[43m,\u001b[49m\n\u001b[0;32m     57\u001b[0m \u001b[43m                       \u001b[49m\u001b[43mall_out_streams_list\u001b[49m\u001b[38;5;241;43m=\u001b[39;49m\u001b[43mall_out_streams\u001b[49m\u001b[43m,\u001b[49m\n\u001b[0;32m     58\u001b[0m \u001b[43m                       \u001b[49m\u001b[43mall_components\u001b[49m\u001b[38;5;241;43m=\u001b[39;49m\u001b[43mall_components\u001b[49m\u001b[43m,\u001b[49m\n\u001b[0;32m     59\u001b[0m \u001b[43m                       \u001b[49m\u001b[43mall_blocks\u001b[49m\u001b[43m \u001b[49m\u001b[38;5;241;43m=\u001b[39;49m\u001b[43m \u001b[49m\u001b[43mall_blocks\u001b[49m\u001b[43m,\u001b[49m\n\u001b[0;32m     60\u001b[0m \u001b[43m                       \u001b[49m\u001b[43msave_path\u001b[49m\u001b[38;5;241;43m=\u001b[39;49m\u001b[38;5;124;43m\"\u001b[39;49m\u001b[38;5;124;43mdataset/simulation_DIST_\u001b[39;49m\u001b[38;5;132;43;01m{}\u001b[39;49;00m\u001b[38;5;124;43m.json\u001b[39;49m\u001b[38;5;124;43m\"\u001b[39;49m\u001b[38;5;241;43m.\u001b[39;49m\u001b[43mformat\u001b[49m\u001b[43m(\u001b[49m\u001b[38;5;124;43m\"\u001b[39;49m\u001b[38;5;124;43m10000-10010\u001b[39;49m\u001b[38;5;124;43m\"\u001b[39;49m\u001b[43m)\u001b[49m\u001b[43m)\u001b[49m\n",
      "File \u001b[1;32m~\\data\\simulator_dist.py:188\u001b[0m, in \u001b[0;36mStreamDataSimulatorAspenDIST.simulate\u001b[1;34m(self, all_streams_list, all_in_streams_list, all_out_streams_list, all_components, all_blocks, save_path)\u001b[0m\n\u001b[0;32m    186\u001b[0m \u001b[38;5;28mself\u001b[39m\u001b[38;5;241m.\u001b[39mall_blocks \u001b[38;5;241m=\u001b[39m all_blocks\n\u001b[0;32m    187\u001b[0m \u001b[38;5;28mself\u001b[39m\u001b[38;5;241m.\u001b[39msave_path \u001b[38;5;241m=\u001b[39m save_path\n\u001b[1;32m--> 188\u001b[0m \u001b[38;5;28;43mself\u001b[39;49m\u001b[38;5;241;43m.\u001b[39;49m\u001b[43m_run_simulation\u001b[49m\u001b[43m(\u001b[49m\u001b[43m)\u001b[49m\n\u001b[0;32m    189\u001b[0m \u001b[38;5;28;01mreturn\u001b[39;00m \u001b[38;5;28mself\u001b[39m\u001b[38;5;241m.\u001b[39msimulation_collector\n",
      "File \u001b[1;32m~\\data\\simulator_dist.py:138\u001b[0m, in \u001b[0;36mStreamDataSimulatorAspenDIST._run_simulation\u001b[1;34m(self)\u001b[0m\n\u001b[0;32m    135\u001b[0m \u001b[38;5;28;01mfor\u001b[39;00m sample \u001b[38;5;129;01min\u001b[39;00m tqdm(\u001b[38;5;28mself\u001b[39m\u001b[38;5;241m.\u001b[39msamples):\n\u001b[0;32m    136\u001b[0m     \u001b[38;5;66;03m#  FEED\u001b[39;00m\n\u001b[0;32m    137\u001b[0m     \u001b[38;5;28mprint\u001b[39m(sample[\u001b[38;5;241m0\u001b[39m]\u001b[38;5;241m*\u001b[39msample[\u001b[38;5;241m5\u001b[39m])\n\u001b[1;32m--> 138\u001b[0m     \u001b[38;5;28;43mself\u001b[39;49m\u001b[38;5;241;43m.\u001b[39;49m\u001b[43mengine\u001b[49m\u001b[38;5;241;43m.\u001b[39;49m\u001b[43mTree\u001b[49m\u001b[38;5;241m.\u001b[39mFindNode(FLOW_A_path)\u001b[38;5;241m.\u001b[39mValue \u001b[38;5;241m=\u001b[39m sample[\u001b[38;5;241m0\u001b[39m]\u001b[38;5;241m*\u001b[39msample[\u001b[38;5;241m5\u001b[39m]  \u001b[38;5;66;03m# Flow A\u001b[39;00m\n\u001b[0;32m    139\u001b[0m     \u001b[38;5;28mself\u001b[39m\u001b[38;5;241m.\u001b[39mengine\u001b[38;5;241m.\u001b[39mTree\u001b[38;5;241m.\u001b[39mFindNode(FLOW_B_path)\u001b[38;5;241m.\u001b[39mValue \u001b[38;5;241m=\u001b[39m sample[\u001b[38;5;241m1\u001b[39m]\u001b[38;5;241m*\u001b[39msample[\u001b[38;5;241m5\u001b[39m]  \u001b[38;5;66;03m# Flow B\u001b[39;00m\n\u001b[0;32m    140\u001b[0m     \u001b[38;5;28mself\u001b[39m\u001b[38;5;241m.\u001b[39mengine\u001b[38;5;241m.\u001b[39mTree\u001b[38;5;241m.\u001b[39mFindNode(FLOW_C_path)\u001b[38;5;241m.\u001b[39mValue \u001b[38;5;241m=\u001b[39m sample[\u001b[38;5;241m2\u001b[39m]\u001b[38;5;241m*\u001b[39msample[\u001b[38;5;241m5\u001b[39m]  \u001b[38;5;66;03m#Flow C\u001b[39;00m\n",
      "File \u001b[1;32mC:\\ProgramData\\Anaconda3\\lib\\site-packages\\win32com\\client\\dynamic.py:628\u001b[0m, in \u001b[0;36mCDispatch.__getattr__\u001b[1;34m(self, attr)\u001b[0m\n\u001b[0;32m    624\u001b[0m debug_attr_print(\n\u001b[0;32m    625\u001b[0m     \u001b[38;5;124m\"\u001b[39m\u001b[38;5;124mGetting property Id 0x\u001b[39m\u001b[38;5;132;01m%x\u001b[39;00m\u001b[38;5;124m from OLE object\u001b[39m\u001b[38;5;124m\"\u001b[39m \u001b[38;5;241m%\u001b[39m retEntry\u001b[38;5;241m.\u001b[39mdispid\n\u001b[0;32m    626\u001b[0m )\n\u001b[0;32m    627\u001b[0m \u001b[38;5;28;01mtry\u001b[39;00m:\n\u001b[1;32m--> 628\u001b[0m     ret \u001b[38;5;241m=\u001b[39m \u001b[38;5;28;43mself\u001b[39;49m\u001b[38;5;241;43m.\u001b[39;49m\u001b[43m_oleobj_\u001b[49m\u001b[38;5;241;43m.\u001b[39;49m\u001b[43mInvoke\u001b[49m\u001b[43m(\u001b[49m\u001b[43mretEntry\u001b[49m\u001b[38;5;241;43m.\u001b[39;49m\u001b[43mdispid\u001b[49m\u001b[43m,\u001b[49m\u001b[43m \u001b[49m\u001b[38;5;241;43m0\u001b[39;49m\u001b[43m,\u001b[49m\u001b[43m \u001b[49m\u001b[43minvoke_type\u001b[49m\u001b[43m,\u001b[49m\u001b[43m \u001b[49m\u001b[38;5;241;43m1\u001b[39;49m\u001b[43m)\u001b[49m\n\u001b[0;32m    629\u001b[0m \u001b[38;5;28;01mexcept\u001b[39;00m pythoncom\u001b[38;5;241m.\u001b[39mcom_error \u001b[38;5;28;01mas\u001b[39;00m details:\n\u001b[0;32m    630\u001b[0m     \u001b[38;5;28;01mif\u001b[39;00m details\u001b[38;5;241m.\u001b[39mhresult \u001b[38;5;129;01min\u001b[39;00m ERRORS_BAD_CONTEXT:\n\u001b[0;32m    631\u001b[0m         \u001b[38;5;66;03m# May be a method.\u001b[39;00m\n",
      "\u001b[1;31mcom_error\u001b[0m: (-2147417848, 'The object invoked has disconnected from its clients.', None, None)"
     ]
    }
   ],
   "source": [
    "run_aspen_plus_dist()"
   ]
  },
  {
   "cell_type": "code",
   "execution_count": null,
   "id": "2eaf0126-ef3d-4bd6-82a7-cd948fe9cc8e",
   "metadata": {},
   "outputs": [],
   "source": []
  },
  {
   "cell_type": "code",
   "execution_count": null,
   "id": "7fdb0d55-4999-44bd-bdf9-c04c5bfcb7f2",
   "metadata": {},
   "outputs": [],
   "source": []
  },
  {
   "cell_type": "code",
   "execution_count": null,
   "id": "7e5872a4-c5c7-4caf-9a60-177c064dda03",
   "metadata": {},
   "outputs": [],
   "source": []
  }
 ],
 "metadata": {
  "kernelspec": {
   "display_name": "Python 3 (ipykernel)",
   "language": "python",
   "name": "python3"
  },
  "language_info": {
   "codemirror_mode": {
    "name": "ipython",
    "version": 3
   },
   "file_extension": ".py",
   "mimetype": "text/x-python",
   "name": "python",
   "nbconvert_exporter": "python",
   "pygments_lexer": "ipython3",
   "version": "3.8.18"
  }
 },
 "nbformat": 4,
 "nbformat_minor": 5
}
