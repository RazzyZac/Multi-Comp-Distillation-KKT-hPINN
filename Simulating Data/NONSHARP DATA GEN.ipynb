{
 "cells": [
  {
   "cell_type": "code",
   "execution_count": 1,
   "id": "641865c8",
   "metadata": {},
   "outputs": [],
   "source": [
    "import json\n",
    "from system.aspenplusconnector import ASPENConnector\n",
    "from data.data_dist import StreamDataGeneratorAspenDIST\n",
    "from data.simulator_dist import StreamDataSimulatorAspenDIST"
   ]
  },
  {
   "cell_type": "code",
   "execution_count": null,
   "id": "39ecd689",
   "metadata": {},
   "outputs": [],
   "source": [
    "def run_aspen_plus_dist():\n",
    "    path = \"C:\\\\Users\\\\...\\\\dataset\\\\multi-comp distillation.bkp\"\n",
    "    system = ASPENConnector(path)\n",
    "    system.connect()\n",
    "    stream_list = [\n",
    "        \"FEED\",\n",
    "        \"DIST\",\n",
    "        \"BOTT\",\n",
    "    ]\n",
    "    all_in_streams = [\n",
    "        \"FEED\",\n",
    "    ]\n",
    "    all_out_streams = [\n",
    "        \"DIST\",\n",
    "        \"BOTT\",\n",
    "    ]\n",
    "    all_components = [\n",
    "        \"N-BUTANE\",\n",
    "        \"N-PENTAN\",\n",
    "        \"N-HEXANE\",\n",
    "    ]\n",
    "    all_blocks = [\n",
    "        \"B1\",\n",
    "    ]\n",
    "    json_file_path = 'C:\\\\Users\\\\...\\\\attributes_DIST.json'  # Replace with the path to your JSON file\n",
    "    # Load the JSON dictionary from the file\n",
    "    with open(json_file_path, 'r') as json_file:\n",
    "        attributes_dict = json.load(json_file)\n",
    "\n",
    "    data_generator = StreamDataGeneratorAspenDIST(system=system.aspen)\n",
    "\n",
    "\n",
    "    data_dict = data_generator.generate(all_streams_list=stream_list,\n",
    "                                        all_in_streams_list=all_in_streams,\n",
    "                                        all_out_streams_list=all_out_streams,\n",
    "                                        all_components=all_components,\n",
    "                                        all_blocks = all_blocks)\n",
    "\n",
    "    simulator = StreamDataSimulatorAspenDIST(engine=system.aspen,\n",
    "                                                  generator=data_generator,\n",
    "                                                  attributes_dict=attributes_dict,\n",
    "                                                  num_points=5000,\n",
    "                                                  start_point=0) #if simul\n",
    "   \n",
    "    simulator.simulate(all_streams_list=stream_list,\n",
    "                           all_in_streams_list=all_in_streams,\n",
    "                           all_out_streams_list=all_out_streams,\n",
    "                           all_components=all_components,\n",
    "                           all_blocks = all_blocks,\n",
    "                           save_path=\"dataset/simulation_DIST_{}.json\".format(\"0-5000 7.3.24\"))\n",
    "\n"
   ]
  }
 ],
 "metadata": {
  "kernelspec": {
   "display_name": "Python 3 (ipykernel)",
   "language": "python",
   "name": "python3"
  },
  "language_info": {
   "codemirror_mode": {
    "name": "ipython",
    "version": 3
   },
   "file_extension": ".py",
   "mimetype": "text/x-python",
   "name": "python",
   "nbconvert_exporter": "python",
   "pygments_lexer": "ipython3",
   "version": "3.9.12"
  }
 },
 "nbformat": 4,
 "nbformat_minor": 5
}
