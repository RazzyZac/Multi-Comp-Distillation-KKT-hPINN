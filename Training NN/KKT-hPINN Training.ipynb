{
 "cells": [
  {
   "cell_type": "code",
   "execution_count": 5,
   "id": "61543314",
   "metadata": {
    "scrolled": true
   },
   "outputs": [
    {
     "name": "stdout",
     "output_type": "stream",
     "text": [
      "Namespace(model='KKThPINN', model_id='MODELID', input_dim=5, hidden_dim=32, hidden_num=1, z0_dim=8, optimizer='adam', epochs=350, batch_size=16, lr=0.0001, mu=1, max_subiter=500, eta=0.8, sigma=2, mu_safe=1000000000.0, dataset_type='distillation', dataset_path='nonsharp_dist_simple.csv', val_ratio=0.1, job='train', runs=1)"
     ]
    },
    {
     "data": {
      "text/plain": [
       "'for num in np.linspace(32,40, 9):\\n    command = f\"python main.py --model KKThPINN --model_id MODELID --input_dim 5 --hidden_dim {int(num)} --hidden_num 1 --z0_dim 8 --epochs 350 --dataset_type distillation --dataset_path nonsharp_dist_simple.csv --val_ratio .1 --job train --runs 1\"\\n    subprocess.run(command, shell=True)'"
      ]
     },
     "execution_count": 5,
     "metadata": {},
     "output_type": "execute_result"
    },
    {
     "name": "stdout",
     "output_type": "stream",
     "text": [
      "\n",
      "n_test is \n",
      "3000\n",
      "<torch.utils.data.dataset.Subset object at 0x000001ED51E0ECA0>\n",
      "n_test is \n",
      "3000\n",
      "<torch.utils.data.dataset.Subset object at 0x000001ED6577A3A0>\n",
      "x_dim is \n",
      "5\n",
      "8\n",
      "type of A: torch.float64, type of B: torch.float64, type of b: torch.float64\n",
      "train set size: 10503, val set size: 1500, test set size: 3000\n",
      "{'train_loader': <torch.utils.data.dataloader.DataLoader object at 0x000001ED1F8E2C70>, 'val_loader': <torch.utils.data.dataloader.DataLoader object at 0x000001ED1F8E2C10>, 'test_loader': <torch.utils.data.dataloader.DataLoader object at 0x000001ED6577A0D0>, 'dataset': <utils.Nonsharp_Dist object at 0x000001ED65FE8F70>, 'A': tensor([[155.7334,   0.0000,   0.0000,   0.0000,   0.0000],\n",
      "        [  0.0000, 173.2469,   0.0000,   0.0000,   0.0000],\n",
      "        [  0.0000,   0.0000, 173.3732,   0.0000,   0.0000]],\n",
      "       dtype=torch.float64), 'B': tensor([[-123.3888,    0.0000,    0.0000,  -83.9591,    0.0000,    0.0000,\n",
      "            0.0000,    0.0000],\n",
      "        [   0.0000, -117.2778,    0.0000,    0.0000, -117.0948,    0.0000,\n",
      "            0.0000,    0.0000],\n",
      "        [   0.0000,    0.0000, -100.8314,    0.0000,    0.0000, -127.2187,\n",
      "            0.0000,    0.0000]], dtype=torch.float64), 'b': tensor([[0.],\n",
      "        [0.],\n",
      "        [0.]], dtype=torch.float64), 'constrained_indexes': [0, 1, 2, 3, 4, 5], 'unconstrained_indexes': [6, 7]}\n",
      "A is \n",
      "tensor([[155.7334,   0.0000,   0.0000,   0.0000,   0.0000],\n",
      "        [  0.0000, 173.2469,   0.0000,   0.0000,   0.0000],\n",
      "        [  0.0000,   0.0000, 173.3732,   0.0000,   0.0000]],\n",
      "       dtype=torch.float64)\n",
      "Start Training...\n",
      "epoch: 00050 loss_train: 0.00200 loss_val: 0.00165 violation_train: 0.00000 violation_val: 0.00000\n",
      "epoch: 00100 loss_train: 0.00128 loss_val: 0.00100 violation_train: 0.00000 violation_val: 0.00000\n",
      "epoch: 00150 loss_train: 0.00111 loss_val: 0.00090 violation_train: 0.00000 violation_val: 0.00000\n",
      "epoch: 00200 loss_train: 0.00103 loss_val: 0.00084 violation_train: 0.00000 violation_val: 0.00000\n",
      "epoch: 00250 loss_train: 0.00098 loss_val: 0.00081 violation_train: 0.00000 violation_val: 0.00000\n",
      "epoch: 00300 loss_train: 0.00095 loss_val: 0.00079 violation_train: 0.00000 violation_val: 0.00000\n",
      "epoch: 00350 loss_train: 0.00093 loss_val: 0.00079 violation_train: 0.00000 violation_val: 0.00000\n",
      "Finished!\n",
      "A is \n",
      "tensor([[155.7334,   0.0000,   0.0000,   0.0000,   0.0000],\n",
      "        [  0.0000, 173.2469,   0.0000,   0.0000,   0.0000],\n",
      "        [  0.0000,   0.0000, 173.3732,   0.0000,   0.0000]],\n",
      "       dtype=torch.float64)\n",
      "{'rmse_total': 0.12983254264891744, 'rmse_unconstrained': 0.24713965661591186, 'rmse_constrained': 0.04505358002403927, 'violation': 9.189635934930207e-16}\n",
      "Saving standard model\n",
      "============= Diagnostic Run torch.onnx.export version 2.0.1+cu118 =============\n",
      "verbose: False, log level: Level.ERROR\n",
      "======================= 0 NONE 0 NOTE 0 WARNING 0 ERROR ========================\n",
      "\n",
      "Wrote PyTorch Onnx model to KKThPINN_dist_simple 32.onnx\n"
     ]
    }
   ],
   "source": [
    "!python main.py --model KKThPINN --model_id MODELID --input_dim 5 --hidden_dim 32 --hidden_num 1 --z0_dim 8 --epochs 350 --dataset_type distillation --dataset_path nonsharp_dist_simple.csv --val_ratio .1 --job train --runs 1\n"
   ]
  },
  {
   "cell_type": "code",
   "execution_count": null,
   "id": "f5fe701b",
   "metadata": {},
   "outputs": [],
   "source": []
  },
  {
   "cell_type": "code",
   "execution_count": null,
   "id": "2906b45b",
   "metadata": {},
   "outputs": [],
   "source": []
  }
 ],
 "metadata": {
  "kernelspec": {
   "display_name": "Python 3 (ipykernel)",
   "language": "python",
   "name": "python3"
  },
  "language_info": {
   "codemirror_mode": {
    "name": "ipython",
    "version": 3
   },
   "file_extension": ".py",
   "mimetype": "text/x-python",
   "name": "python",
   "nbconvert_exporter": "python",
   "pygments_lexer": "ipython3",
   "version": "3.9.12"
  }
 },
 "nbformat": 4,
 "nbformat_minor": 5
}
