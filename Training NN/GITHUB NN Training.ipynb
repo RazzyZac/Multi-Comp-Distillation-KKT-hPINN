{
 "cells": [
  {
   "cell_type": "code",
   "execution_count": 1,
   "id": "51ec01fd",
   "metadata": {},
   "outputs": [],
   "source": [
    "import pandas as pd\n",
    "import numpy as np\n",
    "import matplotlib.pyplot as plt\n",
    "import tensorflow as tf\n",
    "from tensorflow import keras\n",
    "from tensorflow.keras import layers\n",
    "from sklearn.model_selection import train_test_split\n",
    "from sklearn.preprocessing import StandardScaler\n",
    "from sklearn.metrics import r2_score,root_mean_squared_error,mean_squared_error\n"
   ]
  },
  {
   "cell_type": "code",
   "execution_count": 5,
   "id": "194e1b86",
   "metadata": {},
   "outputs": [
    {
     "name": "stdout",
     "output_type": "stream",
     "text": [
      "FEED_BUT       155.738601\n",
      "FEED_PEN       173.252653\n",
      "FEED_HEX       173.378937\n",
      "DIST_RATE      217.643283\n",
      "Reflux Rate    160.163593\n",
      "dtype: float64\n"
     ]
    }
   ],
   "source": [
    "df = pd.read_csv('dataframe')\n",
    "inputs = ['FEED_BUT','FEED_PEN','FEED_HEX','DIST_RATE','Reflux Rate']\n",
    "outputs = ['DIST_BUT','DIST_PEN','DIST_HEX',\"Investment Cost\",'Operating Cost']\n",
    "\n",
    "X = df[inputs]\n",
    "y = df[outputs]\n",
    "\n",
    "\n",
    "mean_X = X.mean(axis=0)\n",
    "std_X = X.std(axis=0)\n",
    "print(std_X)\n",
    "mean_y = y.mean(axis=0)\n",
    "std_y = y.std(axis=0)\n",
    "mean_y_weird = mean_y\n",
    "std_y_weird = std_y\n",
    "mean_X_weird = mean_X\n",
    "std_X_weird = std_X\n",
    "\n",
    "Xs = (X - mean_X) / std_X\n",
    "ys = (y - mean_y) / std_y\n",
    "\n",
    "X_train,X_test,y_train,y_test = train_test_split(Xs,ys, test_size=0.3, shuffle=True, random_state= 42)\n",
    "\n",
    "X_train = np.asarray(X_train).astype('float64')\n",
    "X_test = np.asarray(X_test).astype('float64')\n",
    "y_train = np.asarray(y_train).astype('float64')\n",
    "y_test = np.asarray(y_test).astype('float64')"
   ]
  },
  {
   "cell_type": "code",
   "execution_count": 6,
   "id": "704dec51",
   "metadata": {},
   "outputs": [],
   "source": [
    "#this data is simulated with n trays = 5 feed tray = 3 pressure = 1.9\n",
    "\n",
    "nn_model = keras.Sequential([\n",
    "      layers.Dense(5),\n",
    "      #layers.Dense(32, activation='relu'),\n",
    "      layers.Dense(32, activation='relu'),\n",
    "      layers.Dense(5, activation = 'linear') \n",
    "])\n",
    "\n",
    "nn_model.compile(loss='mean_absolute_error', optimizer=tf.keras.optimizers.Adam(0.001))\n",
    "\n",
    "history = nn_model.fit(\n",
    "    X_train,\n",
    "    y_train,\n",
    "    validation_split=0.1,\n",
    "    verbose=0, epochs=350)"
   ]
  },
  {
   "cell_type": "code",
   "execution_count": null,
   "id": "b13a86e8",
   "metadata": {},
   "outputs": [],
   "source": [
    "results = nn_model.evaluate(X_test, y_test, verbose=0)\n",
    "pred = nn_model.predict(X_test)\n",
    "\n",
    "rmse = mean_squared_error(y_test,pred)\n",
    "rmse = np.sqrt(rmse)\n",
    "\n",
    "rmse_unconstr= mean_squared_error(y_test[:,3:],pred[:,3:])\n",
    "rmse_unconstr = np.sqrt(rmse_unconstr)\n",
    "\n",
    "rmse_constr= mean_squared_error(y_test[:,:3],pred[:,:3])\n",
    "rmse_constr = np.sqrt(rmse_constr)\n",
    "\n",
    "pred = pred*np.array(std_y) + np.array(mean_y)\n",
    "test = y_test*np.array(std_y) + np.array(mean_y)\n",
    "\n",
    "r2 = r2_score(test,pred)\n",
    "r2_distbut = r2_score(test[:,0],pred[:,0])\n",
    "r2_distpen = r2_score(test[:,1],pred[:,1])\n",
    "r2_disthex = r2_score(test[:,2],pred[:,2])\n",
    "r2_cap = r2_score(test[:,3],pred[:,3])\n",
    "r2_oper = r2_score(test[:,4],pred[:,4])\n",
    "\n",
    "#saving model to put into formulation. Either add path to Solving Formulation file or copy and paste .h5 file there.\n",
    "nn_model.save('DIST simple model comp. 32 node.h5')\n",
    "\n",
    "print(\"total rmse is {}\".format(rmse))\n",
    "print(\"unconstrained rmse is {}\".format(rmse_unconstr))\n",
    "print(\"constrained rmse is {}\".format(rmse_constr))\n",
    "print(\"total r2 is {}\".format(r2))\n",
    "print(\"r2 distillate butane is {}\".format(r2_distbut))\n",
    "print(\"r2 distillate pentane is {}\".format(r2_distpen))\n",
    "print(\"r2 distillate hexane is {}\".format(r2_disthex))\n",
    "print(\"r2 capital cost  is {}\".format(r2_cap))\n",
    "print(\"r2 operating cost  is {}\".format(r2_oper))\n"
   ]
  }
 ],
 "metadata": {
  "kernelspec": {
   "display_name": "Python 3 (ipykernel)",
   "language": "python",
   "name": "python3"
  },
  "language_info": {
   "codemirror_mode": {
    "name": "ipython",
    "version": 3
   },
   "file_extension": ".py",
   "mimetype": "text/x-python",
   "name": "python",
   "nbconvert_exporter": "python",
   "pygments_lexer": "ipython3",
   "version": "3.9.12"
  }
 },
 "nbformat": 4,
 "nbformat_minor": 5
}
